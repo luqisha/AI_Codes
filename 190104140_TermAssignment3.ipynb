{
 "cells": [
  {
   "cell_type": "code",
   "execution_count": 425,
   "metadata": {},
   "outputs": [],
   "source": [
    "import pandas as pd\n",
    "import numpy as np\n",
    "import matplotlib.pyplot as plt\n",
    "\n",
    "from sklearn.preprocessing import StandardScaler, LabelEncoder\n",
    "from sklearn.neighbors import KNeighborsClassifier\n",
    "from sklearn.tree import DecisionTreeClassifier\n",
    "from sklearn.model_selection import KFold\n",
    "from sklearn.metrics import accuracy_score, precision_score, recall_score, f1_score"
   ]
  },
  {
   "cell_type": "code",
   "execution_count": 436,
   "metadata": {},
   "outputs": [
    {
     "data": {
      "text/plain": [
       "array([1., 2.])"
      ]
     },
     "execution_count": 436,
     "metadata": {},
     "output_type": "execute_result"
    }
   ],
   "source": [
    "# Reading the LiverPatient dataset\n",
    "dataset = pd.read_csv('LiverPatient.csv')\n",
    "dataset.head"
   ]
  },
  {
   "cell_type": "code",
   "execution_count": 427,
   "metadata": {},
   "outputs": [
    {
     "data": {
      "text/plain": [
       "(570, 11)"
      ]
     },
     "execution_count": 427,
     "metadata": {},
     "output_type": "execute_result"
    }
   ],
   "source": [
    "# Cleaning the dataset by dropping duplicate rows and rows containing null values\n",
    "dataset.drop_duplicates(inplace = True)\n",
    "dataset.dropna(inplace = True, how = 'any')\n",
    "\n",
    "dataset.shape"
   ]
  },
  {
   "cell_type": "code",
   "execution_count": 428,
   "metadata": {},
   "outputs": [],
   "source": [
    "# Splitting the features and target column from the dataset\n",
    "X = dataset.iloc[:, 0:10]\n",
    "Y = dataset.iloc[:, -1]"
   ]
  },
  {
   "cell_type": "code",
   "execution_count": 429,
   "metadata": {},
   "outputs": [],
   "source": [
    "# Encoding the gender feature into numeric values and Scaling the numerical featuers of the dataset\n",
    "label_encoder = LabelEncoder()\n",
    "X.gender = label_encoder.fit_transform(X.gender)\n",
    "\n",
    "data_scaler = StandardScaler()\n",
    "X = data_scaler.fit_transform(X)\n",
    "\n",
    "X = pd.DataFrame(X)"
   ]
  },
  {
   "cell_type": "code",
   "execution_count": 430,
   "metadata": {},
   "outputs": [],
   "source": [
    "# Creating objects of models and lists for calculating performance metrics\n",
    "knn = KNeighborsClassifier()\n",
    "dtree = DecisionTreeClassifier()\n",
    "kf = KFold(n_splits = 7, shuffle = True, random_state = 10)\n",
    "\n",
    "accuracy_knn = list()\n",
    "precision_knn = list()\n",
    "recall_knn = list()\n",
    "f1_knn = list()\n",
    "\n",
    "accuracy_dtree = list()\n",
    "precision_dtree = list()\n",
    "recall_dtree = list()\n",
    "f1_dtree = list()\n"
   ]
  },
  {
   "cell_type": "code",
   "execution_count": 431,
   "metadata": {},
   "outputs": [
    {
     "name": "stdout",
     "output_type": "stream",
     "text": [
      "Accuracy of KNN\t\t:  0.67\n",
      "Precision of KNN\t:  0.75\n",
      "Recall of KNN\t\t:  0.81\n",
      "F1 Score of KNN\t\t:  0.78\n",
      "Accuracy of Decision Tree\t:  0.61\n",
      "Precision of Decision Tree\t:  0.73\n",
      "Recall of Decision Tree\t\t:  0.7\n",
      "F1 Score of Decision Tree\t:  0.72\n"
     ]
    }
   ],
   "source": [
    "# Training models using K-Fold Cross Validation\n",
    "for train_index, test_index in kf.split(X):\n",
    "    x_train, x_test = X.iloc[train_index], X.iloc[test_index]\n",
    "    y_train, y_test = Y.iloc[train_index], Y.iloc[test_index]\n",
    "\n",
    "    knn.fit(x_train, y_train)\n",
    "    dtree.fit(x_train, y_train)\n",
    "\n",
    "    y_pred_knn = knn.predict(x_test)\n",
    "    y_pred_dtree = dtree.predict(x_test)\n",
    "    \n",
    "    accuracy_knn.append(accuracy_score(y_test, y_pred_knn))\n",
    "    accuracy_dtree.append(accuracy_score(y_test, y_pred_dtree))\n",
    "\n",
    "    precision_knn.append(precision_score(y_test, y_pred_knn))\n",
    "    precision_dtree.append(precision_score(y_test, y_pred_dtree))\n",
    "\n",
    "    recall_knn.append(recall_score(y_test, y_pred_knn))\n",
    "    recall_dtree.append(recall_score(y_test, y_pred_dtree))\n",
    "\n",
    "    f1_knn.append(f1_score(y_test, y_pred_knn))\n",
    "    f1_dtree.append(f1_score(y_test, y_pred_dtree))\n",
    "\n",
    "knn_acc = round(np.average(accuracy_knn), 2)\n",
    "knn_prec = round(np.average(precision_knn), 2)\n",
    "knn_rec = round(np.average(recall_knn), 2)\n",
    "knn_f1 = round(np.average(f1_knn), 2)\n",
    "\n",
    "dtree_acc = round(np.average(accuracy_dtree), 2)\n",
    "dtree_prec = round(np.average(precision_dtree), 2)\n",
    "dtree_rec = round(np.average(recall_dtree), 2)\n",
    "dtree_f1 = round(np.average(f1_dtree), 2)\n",
    "\n",
    "print(\"Accuracy of KNN\\t\\t: \", knn_acc)\n",
    "print(\"Precision of KNN\\t: \", knn_prec)\n",
    "print(\"Recall of KNN\\t\\t: \", knn_rec)\n",
    "print(\"F1 Score of KNN\\t\\t: \", knn_f1)\n",
    "\n",
    "print(\"Accuracy of Decision Tree\\t: \", dtree_acc)\n",
    "print(\"Precision of Decision Tree\\t: \", dtree_prec)\n",
    "print(\"Recall of Decision Tree\\t\\t: \", dtree_rec)\n",
    "print(\"F1 Score of Decision Tree\\t: \", dtree_f1)"
   ]
  },
  {
   "cell_type": "code",
   "execution_count": 432,
   "metadata": {},
   "outputs": [
    {
     "data": {
      "image/png": "[encoded data removed]",
      "text/plain": [
       "<Figure size 700x500 with 1 Axes>"
      ]
     },
     "metadata": {},
     "output_type": "display_data"
    }
   ],
   "source": [
    "# Bar chart for comparing performance of two models on this dataset\n",
    "\n",
    "knn_metrics = [knn_acc, knn_prec, knn_rec, knn_f1]\n",
    "dtree_metrics = [dtree_acc, dtree_prec, dtree_rec, dtree_f1]\n",
    " \n",
    "metrics_names = ['Accuracy','Precision','Recall','F1-Score']\n",
    "knn_metrics = [knn_acc, knn_prec, knn_rec, knn_f1]\n",
    "dtree_metrics = [dtree_acc, dtree_prec, dtree_rec, dtree_f1]\n",
    "  \n",
    "x_axis = np.arange(len(metrics_names))\n",
    "\n",
    "plt.figure(figsize = (7, 5))\n",
    "plt.bar(x_axis - 0.2, knn_metrics, 0.4, label = 'KNN')\n",
    "plt.bar(x_axis + 0.2, dtree_metrics, 0.4, label = 'Decision Tree')\n",
    "  \n",
    "plt.xticks(x_axis, metrics_names)\n",
    "plt.title(\"Comparison of performance metrics on LiverPatient dataset\")\n",
    "plt.legend()\n",
    "plt.show()"
   ]
  }
 ],
 "metadata": {
  "kernelspec": {
   "display_name": "Python 3",
   "language": "python",
   "name": "python3"
  },
  "language_info": {
   "codemirror_mode": {
    "name": "ipython",
    "version": 3
   },
   "file_extension": ".py",
   "mimetype": "text/x-python",
   "name": "python",
   "nbconvert_exporter": "python",
   "pygments_lexer": "ipython3",
   "version": "3.10.4"
  },
  "orig_nbformat": 4,
  "vscode": {
   "interpreter": {
    "hash": "20013eb197313dcbf638f07c9453d4dc581035df3e467822dafecac058618166"
   }
  }
 },
 "nbformat": 4,
 "nbformat_minor": 2
}
